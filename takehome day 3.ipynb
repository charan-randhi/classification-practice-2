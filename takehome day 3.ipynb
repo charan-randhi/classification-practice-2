{
 "cells": [
  {
   "cell_type": "markdown",
   "metadata": {},
   "source": [
    "<table align=\"center\" width=100%>\n",
    "    <tr>\n",
    "        <td width=\"15%\">\n",
    "            <img src=\"homework.png\">\n",
    "        </td>\n",
    "        <td>\n",
    "            <div align=\"center\">\n",
    "                <font color=\"#21618C\" size=8px>\n",
    "                    <b> Take-Home <br>(Day 3)\n",
    "                    </b>\n",
    "                </font>\n",
    "            </div>\n",
    "        </td>\n",
    "    </tr>\n",
    "</table>"
   ]
  },
  {
   "cell_type": "markdown",
   "metadata": {},
   "source": [
    "#### Import the required libraries"
   ]
  },
  {
   "cell_type": "code",
   "execution_count": 2,
   "metadata": {},
   "outputs": [],
   "source": [
    "import warnings\n",
    "warnings.filterwarnings('ignore')"
   ]
  },
  {
   "cell_type": "code",
   "execution_count": 1,
   "metadata": {},
   "outputs": [],
   "source": [
    "import numpy as np\n",
    "import pandas as pd\n",
    "import matplotlib.pyplot as plt\n",
    "import seaborn as sns\n",
    "import scipy.stats as st"
   ]
  },
  {
   "cell_type": "markdown",
   "metadata": {},
   "source": [
    "#### Read the data\n",
    "\n",
    "Load the csv file and print the first five observations."
   ]
  },
  {
   "cell_type": "code",
   "execution_count": 20,
   "metadata": {},
   "outputs": [
    {
     "data": {
      "text/html": [
       "<div>\n",
       "<style scoped>\n",
       "    .dataframe tbody tr th:only-of-type {\n",
       "        vertical-align: middle;\n",
       "    }\n",
       "\n",
       "    .dataframe tbody tr th {\n",
       "        vertical-align: top;\n",
       "    }\n",
       "\n",
       "    .dataframe thead th {\n",
       "        text-align: right;\n",
       "    }\n",
       "</style>\n",
       "<table border=\"1\" class=\"dataframe\">\n",
       "  <thead>\n",
       "    <tr style=\"text-align: right;\">\n",
       "      <th></th>\n",
       "      <th>Obs_Id</th>\n",
       "      <th>Rainfall</th>\n",
       "      <th>Evaporation</th>\n",
       "      <th>Sunshine</th>\n",
       "      <th>Temp</th>\n",
       "      <th>Wind_Speed</th>\n",
       "      <th>Humidity</th>\n",
       "      <th>Pressure</th>\n",
       "      <th>RainTomorrow</th>\n",
       "    </tr>\n",
       "  </thead>\n",
       "  <tbody>\n",
       "    <tr>\n",
       "      <td>0</td>\n",
       "      <td>1</td>\n",
       "      <td>3.6</td>\n",
       "      <td>1.0</td>\n",
       "      <td>3.0</td>\n",
       "      <td>14.225</td>\n",
       "      <td>12.333333</td>\n",
       "      <td>82.0</td>\n",
       "      <td>1028.10</td>\n",
       "      <td>0</td>\n",
       "    </tr>\n",
       "    <tr>\n",
       "      <td>1</td>\n",
       "      <td>2</td>\n",
       "      <td>0.0</td>\n",
       "      <td>7.2</td>\n",
       "      <td>4.9</td>\n",
       "      <td>23.075</td>\n",
       "      <td>44.333333</td>\n",
       "      <td>69.5</td>\n",
       "      <td>1015.65</td>\n",
       "      <td>1</td>\n",
       "    </tr>\n",
       "    <tr>\n",
       "      <td>2</td>\n",
       "      <td>3</td>\n",
       "      <td>0.0</td>\n",
       "      <td>0.6</td>\n",
       "      <td>1.5</td>\n",
       "      <td>10.175</td>\n",
       "      <td>16.666667</td>\n",
       "      <td>87.0</td>\n",
       "      <td>1026.45</td>\n",
       "      <td>0</td>\n",
       "    </tr>\n",
       "    <tr>\n",
       "      <td>3</td>\n",
       "      <td>4</td>\n",
       "      <td>0.8</td>\n",
       "      <td>2.4</td>\n",
       "      <td>0.5</td>\n",
       "      <td>19.000</td>\n",
       "      <td>42.666667</td>\n",
       "      <td>89.0</td>\n",
       "      <td>1010.05</td>\n",
       "      <td>1</td>\n",
       "    </tr>\n",
       "    <tr>\n",
       "      <td>4</td>\n",
       "      <td>5</td>\n",
       "      <td>40.4</td>\n",
       "      <td>3.0</td>\n",
       "      <td>3.6</td>\n",
       "      <td>18.725</td>\n",
       "      <td>35.333333</td>\n",
       "      <td>81.5</td>\n",
       "      <td>1005.60</td>\n",
       "      <td>0</td>\n",
       "    </tr>\n",
       "  </tbody>\n",
       "</table>\n",
       "</div>"
      ],
      "text/plain": [
       "   Obs_Id  Rainfall  Evaporation  Sunshine    Temp  Wind_Speed  Humidity  \\\n",
       "0       1       3.6          1.0       3.0  14.225   12.333333      82.0   \n",
       "1       2       0.0          7.2       4.9  23.075   44.333333      69.5   \n",
       "2       3       0.0          0.6       1.5  10.175   16.666667      87.0   \n",
       "3       4       0.8          2.4       0.5  19.000   42.666667      89.0   \n",
       "4       5      40.4          3.0       3.6  18.725   35.333333      81.5   \n",
       "\n",
       "   Pressure  RainTomorrow  \n",
       "0   1028.10             0  \n",
       "1   1015.65             1  \n",
       "2   1026.45             0  \n",
       "3   1010.05             1  \n",
       "4   1005.60             0  "
      ]
     },
     "execution_count": 20,
     "metadata": {},
     "output_type": "execute_result"
    }
   ],
   "source": [
    "df=pd.read_csv('rainfall_prediction.csv')\n",
    "df.head()"
   ]
  },
  {
   "cell_type": "code",
   "execution_count": 21,
   "metadata": {},
   "outputs": [
    {
     "name": "stdout",
     "output_type": "stream",
     "text": [
      "<class 'pandas.core.frame.DataFrame'>\n",
      "RangeIndex: 1520 entries, 0 to 1519\n",
      "Data columns (total 9 columns):\n",
      "Obs_Id          1520 non-null int64\n",
      "Rainfall        1520 non-null float64\n",
      "Evaporation     1520 non-null float64\n",
      "Sunshine        1520 non-null float64\n",
      "Temp            1520 non-null float64\n",
      "Wind_Speed      1520 non-null float64\n",
      "Humidity        1520 non-null float64\n",
      "Pressure        1520 non-null float64\n",
      "RainTomorrow    1520 non-null int64\n",
      "dtypes: float64(7), int64(2)\n",
      "memory usage: 107.0 KB\n"
     ]
    }
   ],
   "source": [
    "df.info()"
   ]
  },
  {
   "cell_type": "code",
   "execution_count": 22,
   "metadata": {},
   "outputs": [
    {
     "data": {
      "text/plain": [
       "(1520, 9)"
      ]
     },
     "execution_count": 22,
     "metadata": {},
     "output_type": "execute_result"
    }
   ],
   "source": [
    "df.shape"
   ]
  },
  {
   "cell_type": "code",
   "execution_count": 23,
   "metadata": {},
   "outputs": [
    {
     "data": {
      "text/plain": [
       "Obs_Id          0\n",
       "Rainfall        0\n",
       "Evaporation     0\n",
       "Sunshine        0\n",
       "Temp            0\n",
       "Wind_Speed      0\n",
       "Humidity        0\n",
       "Pressure        0\n",
       "RainTomorrow    0\n",
       "dtype: int64"
      ]
     },
     "execution_count": 23,
     "metadata": {},
     "output_type": "execute_result"
    }
   ],
   "source": [
    "df.isnull().sum()"
   ]
  },
  {
   "cell_type": "code",
   "execution_count": 24,
   "metadata": {},
   "outputs": [
    {
     "data": {
      "text/html": [
       "<div>\n",
       "<style scoped>\n",
       "    .dataframe tbody tr th:only-of-type {\n",
       "        vertical-align: middle;\n",
       "    }\n",
       "\n",
       "    .dataframe tbody tr th {\n",
       "        vertical-align: top;\n",
       "    }\n",
       "\n",
       "    .dataframe thead th {\n",
       "        text-align: right;\n",
       "    }\n",
       "</style>\n",
       "<table border=\"1\" class=\"dataframe\">\n",
       "  <thead>\n",
       "    <tr style=\"text-align: right;\">\n",
       "      <th></th>\n",
       "      <th>Obs_Id</th>\n",
       "      <th>Rainfall</th>\n",
       "      <th>Evaporation</th>\n",
       "      <th>Sunshine</th>\n",
       "      <th>Temp</th>\n",
       "      <th>Wind_Speed</th>\n",
       "      <th>Humidity</th>\n",
       "      <th>Pressure</th>\n",
       "      <th>RainTomorrow</th>\n",
       "    </tr>\n",
       "  </thead>\n",
       "  <tbody>\n",
       "    <tr>\n",
       "      <td>Obs_Id</td>\n",
       "      <td>1.000000</td>\n",
       "      <td>0.013049</td>\n",
       "      <td>-0.031496</td>\n",
       "      <td>0.012289</td>\n",
       "      <td>-0.037399</td>\n",
       "      <td>0.013679</td>\n",
       "      <td>0.007504</td>\n",
       "      <td>-0.002640</td>\n",
       "      <td>0.023220</td>\n",
       "    </tr>\n",
       "    <tr>\n",
       "      <td>Rainfall</td>\n",
       "      <td>0.013049</td>\n",
       "      <td>1.000000</td>\n",
       "      <td>-0.078871</td>\n",
       "      <td>-0.242753</td>\n",
       "      <td>0.033095</td>\n",
       "      <td>0.076368</td>\n",
       "      <td>0.286686</td>\n",
       "      <td>-0.178015</td>\n",
       "      <td>0.226263</td>\n",
       "    </tr>\n",
       "    <tr>\n",
       "      <td>Evaporation</td>\n",
       "      <td>-0.031496</td>\n",
       "      <td>-0.078871</td>\n",
       "      <td>1.000000</td>\n",
       "      <td>0.374250</td>\n",
       "      <td>0.643564</td>\n",
       "      <td>0.269741</td>\n",
       "      <td>-0.530724</td>\n",
       "      <td>-0.330604</td>\n",
       "      <td>-0.102184</td>\n",
       "    </tr>\n",
       "    <tr>\n",
       "      <td>Sunshine</td>\n",
       "      <td>0.012289</td>\n",
       "      <td>-0.242753</td>\n",
       "      <td>0.374250</td>\n",
       "      <td>1.000000</td>\n",
       "      <td>0.338052</td>\n",
       "      <td>0.028162</td>\n",
       "      <td>-0.592967</td>\n",
       "      <td>0.007931</td>\n",
       "      <td>-0.453372</td>\n",
       "    </tr>\n",
       "    <tr>\n",
       "      <td>Temp</td>\n",
       "      <td>-0.037399</td>\n",
       "      <td>0.033095</td>\n",
       "      <td>0.643564</td>\n",
       "      <td>0.338052</td>\n",
       "      <td>1.000000</td>\n",
       "      <td>0.122074</td>\n",
       "      <td>-0.364721</td>\n",
       "      <td>-0.487932</td>\n",
       "      <td>-0.058752</td>\n",
       "    </tr>\n",
       "    <tr>\n",
       "      <td>Wind_Speed</td>\n",
       "      <td>0.013679</td>\n",
       "      <td>0.076368</td>\n",
       "      <td>0.269741</td>\n",
       "      <td>0.028162</td>\n",
       "      <td>0.122074</td>\n",
       "      <td>1.000000</td>\n",
       "      <td>-0.160412</td>\n",
       "      <td>-0.345703</td>\n",
       "      <td>0.188175</td>\n",
       "    </tr>\n",
       "    <tr>\n",
       "      <td>Humidity</td>\n",
       "      <td>0.007504</td>\n",
       "      <td>0.286686</td>\n",
       "      <td>-0.530724</td>\n",
       "      <td>-0.592967</td>\n",
       "      <td>-0.364721</td>\n",
       "      <td>-0.160412</td>\n",
       "      <td>1.000000</td>\n",
       "      <td>0.072248</td>\n",
       "      <td>0.365936</td>\n",
       "    </tr>\n",
       "    <tr>\n",
       "      <td>Pressure</td>\n",
       "      <td>-0.002640</td>\n",
       "      <td>-0.178015</td>\n",
       "      <td>-0.330604</td>\n",
       "      <td>0.007931</td>\n",
       "      <td>-0.487932</td>\n",
       "      <td>-0.345703</td>\n",
       "      <td>0.072248</td>\n",
       "      <td>1.000000</td>\n",
       "      <td>-0.235044</td>\n",
       "    </tr>\n",
       "    <tr>\n",
       "      <td>RainTomorrow</td>\n",
       "      <td>0.023220</td>\n",
       "      <td>0.226263</td>\n",
       "      <td>-0.102184</td>\n",
       "      <td>-0.453372</td>\n",
       "      <td>-0.058752</td>\n",
       "      <td>0.188175</td>\n",
       "      <td>0.365936</td>\n",
       "      <td>-0.235044</td>\n",
       "      <td>1.000000</td>\n",
       "    </tr>\n",
       "  </tbody>\n",
       "</table>\n",
       "</div>"
      ],
      "text/plain": [
       "                Obs_Id  Rainfall  Evaporation  Sunshine      Temp  Wind_Speed  \\\n",
       "Obs_Id        1.000000  0.013049    -0.031496  0.012289 -0.037399    0.013679   \n",
       "Rainfall      0.013049  1.000000    -0.078871 -0.242753  0.033095    0.076368   \n",
       "Evaporation  -0.031496 -0.078871     1.000000  0.374250  0.643564    0.269741   \n",
       "Sunshine      0.012289 -0.242753     0.374250  1.000000  0.338052    0.028162   \n",
       "Temp         -0.037399  0.033095     0.643564  0.338052  1.000000    0.122074   \n",
       "Wind_Speed    0.013679  0.076368     0.269741  0.028162  0.122074    1.000000   \n",
       "Humidity      0.007504  0.286686    -0.530724 -0.592967 -0.364721   -0.160412   \n",
       "Pressure     -0.002640 -0.178015    -0.330604  0.007931 -0.487932   -0.345703   \n",
       "RainTomorrow  0.023220  0.226263    -0.102184 -0.453372 -0.058752    0.188175   \n",
       "\n",
       "              Humidity  Pressure  RainTomorrow  \n",
       "Obs_Id        0.007504 -0.002640      0.023220  \n",
       "Rainfall      0.286686 -0.178015      0.226263  \n",
       "Evaporation  -0.530724 -0.330604     -0.102184  \n",
       "Sunshine     -0.592967  0.007931     -0.453372  \n",
       "Temp         -0.364721 -0.487932     -0.058752  \n",
       "Wind_Speed   -0.160412 -0.345703      0.188175  \n",
       "Humidity      1.000000  0.072248      0.365936  \n",
       "Pressure      0.072248  1.000000     -0.235044  \n",
       "RainTomorrow  0.365936 -0.235044      1.000000  "
      ]
     },
     "execution_count": 24,
     "metadata": {},
     "output_type": "execute_result"
    }
   ],
   "source": [
    "df.corr()"
   ]
  },
  {
   "cell_type": "markdown",
   "metadata": {},
   "source": [
    "**The data definition is as follows:** <br>\n",
    "\n",
    "**Obs_Id:** Observation Id\n",
    "\n",
    "**Rainfall:** Rainfall recorded in a day (in mm) \n",
    "\n",
    "**Evaporation:** Number of field goals made \n",
    "\n",
    "**Sunshine:** Number of hours of bright sunshine per day\n",
    "\n",
    "**Temp:** Temperature in degree C\n",
    "\n",
    "**Wind_Speed:** Average speed of the wind in km/hour\n",
    "\n",
    "**Humidity:** Humidity in percentage (%)\n",
    "\n",
    "**Pressure:** Atmospheric pressure in hpa (hecto Pascals)\n",
    "\n",
    "**Rain Tomorrow:** Whether it will rain or not(0 = No, it won't rain tomorrow, 1 = Yes, it will rain tomorrow) (target/dependent variable)"
   ]
  },
  {
   "cell_type": "markdown",
   "metadata": {},
   "source": [
    "Our objective is to predict whether it will rain tomorrow or not."
   ]
  },
  {
   "cell_type": "markdown",
   "metadata": {},
   "source": [
    "### Let's begin with some hands-on practice exercises"
   ]
  },
  {
   "cell_type": "markdown",
   "metadata": {},
   "source": [
    "<table align=\"left\">\n",
    "    <tr>\n",
    "        <td width=\"6%\">\n",
    "            <img src=\"question_icon.png\">\n",
    "        </td>\n",
    "        <td>\n",
    "            <div align=\"left\", style=\"font-size:120%\">\n",
    "                <font color=\"#21618C\">\n",
    "                    <b>1. Identify and remove the variables in the data which are insignificant for the classification analysis</b>\n",
    "                </font>\n",
    "            </div>\n",
    "        </td>\n",
    "    </tr>\n",
    "</table>"
   ]
  },
  {
   "cell_type": "code",
   "execution_count": 8,
   "metadata": {
    "scrolled": true
   },
   "outputs": [
    {
     "data": {
      "text/plain": [
       "Obs_Id          192660.000000\n",
       "Humidity           321.829595\n",
       "Wind_Speed          74.886617\n",
       "Rainfall            53.616498\n",
       "Pressure            48.415148\n",
       "Temp                40.715853\n",
       "Sunshine            13.609383\n",
       "Evaporation         13.249551\n",
       "RainTomorrow         0.154490\n",
       "dtype: float64"
      ]
     },
     "execution_count": 8,
     "metadata": {},
     "output_type": "execute_result"
    }
   ],
   "source": [
    "df.var().sort_values(ascending=False)"
   ]
  },
  {
   "cell_type": "code",
   "execution_count": 25,
   "metadata": {
    "scrolled": false
   },
   "outputs": [
    {
     "data": {
      "image/png": "[encoded data removed]",
      "text/plain": [
       "<Figure size 432x288 with 1 Axes>"
      ]
     },
     "metadata": {
      "needs_background": "light"
     },
     "output_type": "display_data"
    },
    {
     "data": {
      "image/png": "[encoded data removed]",
      "text/plain": [
       "<Figure size 432x288 with 1 Axes>"
      ]
     },
     "metadata": {
      "needs_background": "light"
     },
     "output_type": "display_data"
    },
    {
     "data": {
      "image/png": "[encoded data removed]",
      "text/plain": [
       "<Figure size 432x288 with 1 Axes>"
      ]
     },
     "metadata": {
      "needs_background": "light"
     },
     "output_type": "display_data"
    },
    {
     "data": {
      "image/png": "[encoded data removed]",
      "text/plain": [
       "<Figure size 432x288 with 1 Axes>"
      ]
     },
     "metadata": {
      "needs_background": "light"
     },
     "output_type": "display_data"
    },
    {
     "data": {
      "image/png": "[encoded data removed]",
      "text/plain": [
       "<Figure size 432x288 with 1 Axes>"
      ]
     },
     "metadata": {
      "needs_background": "light"
     },
     "output_type": "display_data"
    },
    {
     "data": {
      "image/png": "[encoded data removed]",
      "text/plain": [
       "<Figure size 432x288 with 1 Axes>"
      ]
     },
     "metadata": {
      "needs_background": "light"
     },
     "output_type": "display_data"
    },
    {
     "data": {
      "image/png": "[encoded data removed]",
      "text/plain": [
       "<Figure size 432x288 with 1 Axes>"
      ]
     },
     "metadata": {
      "needs_background": "light"
     },
     "output_type": "display_data"
    },
    {
     "data": {
      "image/png": "[encoded data removed]",
      "text/plain": [
       "<Figure size 432x288 with 1 Axes>"
      ]
     },
     "metadata": {
      "needs_background": "light"
     },
     "output_type": "display_data"
    },
    {
     "data": {
      "image/png": "[encoded data removed]",
      "text/plain": [
       "<Figure size 432x288 with 1 Axes>"
      ]
     },
     "metadata": {
      "needs_background": "light"
     },
     "output_type": "display_data"
    }
   ],
   "source": [
    "y=df['RainTomorrow']\n",
    "x=df.drop('RainTomorrow',axis=1)\n",
    "\n",
    "num_cols=df.select_dtypes(np.number)\n",
    "for i in num_cols.columns:\n",
    "    sns.boxplot(df[i])\n",
    "    plt.show()"
   ]
  },
  {
   "cell_type": "code",
   "execution_count": 26,
   "metadata": {
    "scrolled": true
   },
   "outputs": [
    {
     "data": {
      "text/plain": [
       "0.0     1014\n",
       "0.2       86\n",
       "0.4       35\n",
       "0.6       32\n",
       "0.8       21\n",
       "        ... \n",
       "32.2       1\n",
       "19.8       1\n",
       "17.6       1\n",
       "16.8       1\n",
       "67.8       1\n",
       "Name: Rainfall, Length: 114, dtype: int64"
      ]
     },
     "execution_count": 26,
     "metadata": {},
     "output_type": "execute_result"
    }
   ],
   "source": [
    "df['Rainfall'].value_counts()"
   ]
  },
  {
   "cell_type": "code",
   "execution_count": 27,
   "metadata": {},
   "outputs": [
    {
     "data": {
      "text/html": [
       "<div>\n",
       "<style scoped>\n",
       "    .dataframe tbody tr th:only-of-type {\n",
       "        vertical-align: middle;\n",
       "    }\n",
       "\n",
       "    .dataframe tbody tr th {\n",
       "        vertical-align: top;\n",
       "    }\n",
       "\n",
       "    .dataframe thead th {\n",
       "        text-align: right;\n",
       "    }\n",
       "</style>\n",
       "<table border=\"1\" class=\"dataframe\">\n",
       "  <thead>\n",
       "    <tr style=\"text-align: right;\">\n",
       "      <th></th>\n",
       "      <th>Obs_Id</th>\n",
       "      <th>Evaporation</th>\n",
       "      <th>Sunshine</th>\n",
       "      <th>Temp</th>\n",
       "      <th>Wind_Speed</th>\n",
       "      <th>Humidity</th>\n",
       "      <th>Pressure</th>\n",
       "      <th>RainTomorrow</th>\n",
       "    </tr>\n",
       "  </thead>\n",
       "  <tbody>\n",
       "    <tr>\n",
       "      <td>0</td>\n",
       "      <td>1</td>\n",
       "      <td>1.0</td>\n",
       "      <td>3.0</td>\n",
       "      <td>14.225</td>\n",
       "      <td>12.333333</td>\n",
       "      <td>82.0</td>\n",
       "      <td>1028.10</td>\n",
       "      <td>0</td>\n",
       "    </tr>\n",
       "    <tr>\n",
       "      <td>1</td>\n",
       "      <td>2</td>\n",
       "      <td>7.2</td>\n",
       "      <td>4.9</td>\n",
       "      <td>23.075</td>\n",
       "      <td>44.333333</td>\n",
       "      <td>69.5</td>\n",
       "      <td>1015.65</td>\n",
       "      <td>1</td>\n",
       "    </tr>\n",
       "    <tr>\n",
       "      <td>2</td>\n",
       "      <td>3</td>\n",
       "      <td>0.6</td>\n",
       "      <td>1.5</td>\n",
       "      <td>10.175</td>\n",
       "      <td>16.666667</td>\n",
       "      <td>87.0</td>\n",
       "      <td>1026.45</td>\n",
       "      <td>0</td>\n",
       "    </tr>\n",
       "    <tr>\n",
       "      <td>3</td>\n",
       "      <td>4</td>\n",
       "      <td>2.4</td>\n",
       "      <td>0.5</td>\n",
       "      <td>19.000</td>\n",
       "      <td>42.666667</td>\n",
       "      <td>89.0</td>\n",
       "      <td>1010.05</td>\n",
       "      <td>1</td>\n",
       "    </tr>\n",
       "    <tr>\n",
       "      <td>4</td>\n",
       "      <td>5</td>\n",
       "      <td>3.0</td>\n",
       "      <td>3.6</td>\n",
       "      <td>18.725</td>\n",
       "      <td>35.333333</td>\n",
       "      <td>81.5</td>\n",
       "      <td>1005.60</td>\n",
       "      <td>0</td>\n",
       "    </tr>\n",
       "  </tbody>\n",
       "</table>\n",
       "</div>"
      ],
      "text/plain": [
       "   Obs_Id  Evaporation  Sunshine    Temp  Wind_Speed  Humidity  Pressure  \\\n",
       "0       1          1.0       3.0  14.225   12.333333      82.0   1028.10   \n",
       "1       2          7.2       4.9  23.075   44.333333      69.5   1015.65   \n",
       "2       3          0.6       1.5  10.175   16.666667      87.0   1026.45   \n",
       "3       4          2.4       0.5  19.000   42.666667      89.0   1010.05   \n",
       "4       5          3.0       3.6  18.725   35.333333      81.5   1005.60   \n",
       "\n",
       "   RainTomorrow  \n",
       "0             0  \n",
       "1             1  \n",
       "2             0  \n",
       "3             1  \n",
       "4             0  "
      ]
     },
     "execution_count": 27,
     "metadata": {},
     "output_type": "execute_result"
    }
   ],
   "source": [
    "# Rainfall column has almost the same values. So, dropping it.\n",
    "\n",
    "df=df.drop('Rainfall',axis=1)\n",
    "df.head()"
   ]
  },
  {
   "cell_type": "markdown",
   "metadata": {},
   "source": [
    "<table align=\"left\">\n",
    "    <tr>\n",
    "        <td width=\"6%\">\n",
    "            <img src=\"question_icon.png\">\n",
    "        </td>\n",
    "        <td>\n",
    "            <div align=\"left\", style=\"font-size:120%\">\n",
    "                <font color=\"#21618C\">\n",
    "                    <b>2. Is there any record that is recorded more than once? If yes, do the needful</b>\n",
    "                </font>\n",
    "            </div>\n",
    "        </td>\n",
    "    </tr>\n",
    "</table>"
   ]
  },
  {
   "cell_type": "code",
   "execution_count": 13,
   "metadata": {
    "scrolled": false
   },
   "outputs": [
    {
     "data": {
      "text/plain": [
       "False    1520\n",
       "dtype: int64"
      ]
     },
     "execution_count": 13,
     "metadata": {},
     "output_type": "execute_result"
    }
   ],
   "source": [
    "df.duplicated().value_counts()"
   ]
  },
  {
   "cell_type": "code",
   "execution_count": 15,
   "metadata": {},
   "outputs": [
    {
     "data": {
      "text/plain": [
       "False    1520\n",
       "Name: Obs_Id, dtype: int64"
      ]
     },
     "execution_count": 15,
     "metadata": {},
     "output_type": "execute_result"
    }
   ],
   "source": [
    "df['Obs_Id'].duplicated().value_counts()"
   ]
  },
  {
   "cell_type": "code",
   "execution_count": 14,
   "metadata": {},
   "outputs": [],
   "source": [
    "# there is no duplicate value present in the data"
   ]
  },
  {
   "cell_type": "markdown",
   "metadata": {},
   "source": [
    "<table align=\"left\">\n",
    "    <tr>\n",
    "        <td width=\"6%\">\n",
    "            <img src=\"question_icon.png\">\n",
    "        </td>\n",
    "        <td>\n",
    "            <div align=\"left\", style=\"font-size:120%\">\n",
    "                <font color=\"#21618C\">\n",
    "                    <b>3. Are there any outliers present in the data? If yes, remove such observations using the quartiles of the variables\n",
    "                    </b>\n",
    "                </font>\n",
    "            </div>\n",
    "        </td>\n",
    "    </tr>\n",
    "</table>"
   ]
  },
  {
   "cell_type": "code",
   "execution_count": 16,
   "metadata": {
    "scrolled": false
   },
   "outputs": [
    {
     "data": {
      "image/png": "[encoded data removed]",
      "text/plain": [
       "<Figure size 432x288 with 1 Axes>"
      ]
     },
     "metadata": {
      "needs_background": "light"
     },
     "output_type": "display_data"
    },
    {
     "data": {
      "image/png": "[encoded data removed]",
      "text/plain": [
       "<Figure size 432x288 with 1 Axes>"
      ]
     },
     "metadata": {
      "needs_background": "light"
     },
     "output_type": "display_data"
    },
    {
     "data": {
      "image/png": "[encoded data removed]",
      "text/plain": [
       "<Figure size 432x288 with 1 Axes>"
      ]
     },
     "metadata": {
      "needs_background": "light"
     },
     "output_type": "display_data"
    },
    {
     "data": {
      "image/png": "[encoded data removed]",
      "text/plain": [
       "<Figure size 432x288 with 1 Axes>"
      ]
     },
     "metadata": {
      "needs_background": "light"
     },
     "output_type": "display_data"
    },
    {
     "data": {
      "image/png": "[encoded data removed]",
      "text/plain": [
       "<Figure size 432x288 with 1 Axes>"
      ]
     },
     "metadata": {
      "needs_background": "light"
     },
     "output_type": "display_data"
    },
    {
     "data": {
      "image/png": "[encoded data removed]",
      "text/plain": [
       "<Figure size 432x288 with 1 Axes>"
      ]
     },
     "metadata": {
      "needs_background": "light"
     },
     "output_type": "display_data"
    },
    {
     "data": {
      "image/png": "[encoded data removed]",
      "text/plain": [
       "<Figure size 432x288 with 1 Axes>"
      ]
     },
     "metadata": {
      "needs_background": "light"
     },
     "output_type": "display_data"
    },
    {
     "data": {
      "image/png": "[encoded data removed]",
      "text/plain": [
       "<Figure size 432x288 with 1 Axes>"
      ]
     },
     "metadata": {
      "needs_background": "light"
     },
     "output_type": "display_data"
    }
   ],
   "source": [
    "y=df['RainTomorrow']\n",
    "x=df.drop('RainTomorrow',axis=1)\n",
    "\n",
    "num_cols=df.select_dtypes(np.number)\n",
    "for i in num_cols.columns:\n",
    "    sns.boxplot(df[i])\n",
    "    plt.show()"
   ]
  },
  {
   "cell_type": "code",
   "execution_count": 38,
   "metadata": {},
   "outputs": [
    {
     "data": {
      "text/plain": [
       "(1144, 8)"
      ]
     },
     "execution_count": 38,
     "metadata": {},
     "output_type": "execute_result"
    }
   ],
   "source": [
    "# there are outliers in the data so removing them by iqr method\n",
    "\n",
    "q1 = df.quantile(0.25)\n",
    "q3 = df.quantile(0.75)\n",
    "IQR = q3-q1\n",
    "ll = q1-(1.5*IQR)\n",
    "ul = q3+(1.5*IQR)\n",
    "df=df[~((df<ll) | (df>ul))]\n",
    "df=df.dropna()\n",
    "df.shape"
   ]
  },
  {
   "cell_type": "code",
   "execution_count": 39,
   "metadata": {},
   "outputs": [
    {
     "data": {
      "text/html": [
       "<div>\n",
       "<style scoped>\n",
       "    .dataframe tbody tr th:only-of-type {\n",
       "        vertical-align: middle;\n",
       "    }\n",
       "\n",
       "    .dataframe tbody tr th {\n",
       "        vertical-align: top;\n",
       "    }\n",
       "\n",
       "    .dataframe thead th {\n",
       "        text-align: right;\n",
       "    }\n",
       "</style>\n",
       "<table border=\"1\" class=\"dataframe\">\n",
       "  <thead>\n",
       "    <tr style=\"text-align: right;\">\n",
       "      <th></th>\n",
       "      <th>Obs_Id</th>\n",
       "      <th>Evaporation</th>\n",
       "      <th>Sunshine</th>\n",
       "      <th>Temp</th>\n",
       "      <th>Wind_Speed</th>\n",
       "      <th>Humidity</th>\n",
       "      <th>Pressure</th>\n",
       "      <th>RainTomorrow</th>\n",
       "    </tr>\n",
       "  </thead>\n",
       "  <tbody>\n",
       "    <tr>\n",
       "      <td>0</td>\n",
       "      <td>1</td>\n",
       "      <td>1.0</td>\n",
       "      <td>3.0</td>\n",
       "      <td>14.225</td>\n",
       "      <td>12.333333</td>\n",
       "      <td>82.0</td>\n",
       "      <td>1028.10</td>\n",
       "      <td>0.0</td>\n",
       "    </tr>\n",
       "    <tr>\n",
       "      <td>2</td>\n",
       "      <td>3</td>\n",
       "      <td>0.6</td>\n",
       "      <td>1.5</td>\n",
       "      <td>10.175</td>\n",
       "      <td>16.666667</td>\n",
       "      <td>87.0</td>\n",
       "      <td>1026.45</td>\n",
       "      <td>0.0</td>\n",
       "    </tr>\n",
       "    <tr>\n",
       "      <td>4</td>\n",
       "      <td>5</td>\n",
       "      <td>3.0</td>\n",
       "      <td>3.6</td>\n",
       "      <td>18.725</td>\n",
       "      <td>35.333333</td>\n",
       "      <td>81.5</td>\n",
       "      <td>1005.60</td>\n",
       "      <td>0.0</td>\n",
       "    </tr>\n",
       "    <tr>\n",
       "      <td>5</td>\n",
       "      <td>6</td>\n",
       "      <td>3.0</td>\n",
       "      <td>11.3</td>\n",
       "      <td>15.125</td>\n",
       "      <td>43.666667</td>\n",
       "      <td>59.5</td>\n",
       "      <td>1016.80</td>\n",
       "      <td>0.0</td>\n",
       "    </tr>\n",
       "    <tr>\n",
       "      <td>6</td>\n",
       "      <td>7</td>\n",
       "      <td>7.0</td>\n",
       "      <td>8.5</td>\n",
       "      <td>24.325</td>\n",
       "      <td>14.000000</td>\n",
       "      <td>57.0</td>\n",
       "      <td>1011.00</td>\n",
       "      <td>0.0</td>\n",
       "    </tr>\n",
       "    <tr>\n",
       "      <td>...</td>\n",
       "      <td>...</td>\n",
       "      <td>...</td>\n",
       "      <td>...</td>\n",
       "      <td>...</td>\n",
       "      <td>...</td>\n",
       "      <td>...</td>\n",
       "      <td>...</td>\n",
       "      <td>...</td>\n",
       "    </tr>\n",
       "    <tr>\n",
       "      <td>1515</td>\n",
       "      <td>1516</td>\n",
       "      <td>8.6</td>\n",
       "      <td>11.2</td>\n",
       "      <td>29.650</td>\n",
       "      <td>22.666667</td>\n",
       "      <td>46.5</td>\n",
       "      <td>1012.35</td>\n",
       "      <td>0.0</td>\n",
       "    </tr>\n",
       "    <tr>\n",
       "      <td>1516</td>\n",
       "      <td>1517</td>\n",
       "      <td>4.0</td>\n",
       "      <td>10.9</td>\n",
       "      <td>29.175</td>\n",
       "      <td>17.333333</td>\n",
       "      <td>67.5</td>\n",
       "      <td>1011.05</td>\n",
       "      <td>0.0</td>\n",
       "    </tr>\n",
       "    <tr>\n",
       "      <td>1517</td>\n",
       "      <td>1518</td>\n",
       "      <td>3.4</td>\n",
       "      <td>9.3</td>\n",
       "      <td>14.250</td>\n",
       "      <td>18.333333</td>\n",
       "      <td>61.5</td>\n",
       "      <td>1027.15</td>\n",
       "      <td>0.0</td>\n",
       "    </tr>\n",
       "    <tr>\n",
       "      <td>1518</td>\n",
       "      <td>1519</td>\n",
       "      <td>5.4</td>\n",
       "      <td>11.0</td>\n",
       "      <td>18.925</td>\n",
       "      <td>24.666667</td>\n",
       "      <td>69.0</td>\n",
       "      <td>1017.00</td>\n",
       "      <td>0.0</td>\n",
       "    </tr>\n",
       "    <tr>\n",
       "      <td>1519</td>\n",
       "      <td>1520</td>\n",
       "      <td>1.4</td>\n",
       "      <td>9.4</td>\n",
       "      <td>15.300</td>\n",
       "      <td>41.333333</td>\n",
       "      <td>57.0</td>\n",
       "      <td>1004.75</td>\n",
       "      <td>0.0</td>\n",
       "    </tr>\n",
       "  </tbody>\n",
       "</table>\n",
       "<p>1144 rows × 8 columns</p>\n",
       "</div>"
      ],
      "text/plain": [
       "      Obs_Id  Evaporation  Sunshine    Temp  Wind_Speed  Humidity  Pressure  \\\n",
       "0          1          1.0       3.0  14.225   12.333333      82.0   1028.10   \n",
       "2          3          0.6       1.5  10.175   16.666667      87.0   1026.45   \n",
       "4          5          3.0       3.6  18.725   35.333333      81.5   1005.60   \n",
       "5          6          3.0      11.3  15.125   43.666667      59.5   1016.80   \n",
       "6          7          7.0       8.5  24.325   14.000000      57.0   1011.00   \n",
       "...      ...          ...       ...     ...         ...       ...       ...   \n",
       "1515    1516          8.6      11.2  29.650   22.666667      46.5   1012.35   \n",
       "1516    1517          4.0      10.9  29.175   17.333333      67.5   1011.05   \n",
       "1517    1518          3.4       9.3  14.250   18.333333      61.5   1027.15   \n",
       "1518    1519          5.4      11.0  18.925   24.666667      69.0   1017.00   \n",
       "1519    1520          1.4       9.4  15.300   41.333333      57.0   1004.75   \n",
       "\n",
       "      RainTomorrow  \n",
       "0              0.0  \n",
       "2              0.0  \n",
       "4              0.0  \n",
       "5              0.0  \n",
       "6              0.0  \n",
       "...            ...  \n",
       "1515           0.0  \n",
       "1516           0.0  \n",
       "1517           0.0  \n",
       "1518           0.0  \n",
       "1519           0.0  \n",
       "\n",
       "[1144 rows x 8 columns]"
      ]
     },
     "execution_count": 39,
     "metadata": {},
     "output_type": "execute_result"
    }
   ],
   "source": [
    "df.dropna()"
   ]
  },
  {
   "cell_type": "code",
   "execution_count": 40,
   "metadata": {
    "scrolled": false
   },
   "outputs": [
    {
     "data": {
      "image/png": "[encoded data removed]",
      "text/plain": [
       "<Figure size 432x288 with 1 Axes>"
      ]
     },
     "metadata": {
      "needs_background": "light"
     },
     "output_type": "display_data"
    },
    {
     "data": {
      "image/png": "[encoded data removed]",
      "text/plain": [
       "<Figure size 432x288 with 1 Axes>"
      ]
     },
     "metadata": {
      "needs_background": "light"
     },
     "output_type": "display_data"
    },
    {
     "data": {
      "image/png": "[encoded data removed]",
      "text/plain": [
       "<Figure size 432x288 with 1 Axes>"
      ]
     },
     "metadata": {
      "needs_background": "light"
     },
     "output_type": "display_data"
    },
    {
     "data": {
      "image/png": "[encoded data removed]",
      "text/plain": [
       "<Figure size 432x288 with 1 Axes>"
      ]
     },
     "metadata": {
      "needs_background": "light"
     },
     "output_type": "display_data"
    },
    {
     "data": {
      "image/png": "[encoded data removed]",
      "text/plain": [
       "<Figure size 432x288 with 1 Axes>"
      ]
     },
     "metadata": {
      "needs_background": "light"
     },
     "output_type": "display_data"
    },
    {
     "data": {
      "image/png": "[encoded data removed]",
      "text/plain": [
       "<Figure size 432x288 with 1 Axes>"
      ]
     },
     "metadata": {
      "needs_background": "light"
     },
     "output_type": "display_data"
    },
    {
     "data": {
      "image/png": "[encoded data removed]",
      "text/plain": [
       "<Figure size 432x288 with 1 Axes>"
      ]
     },
     "metadata": {
      "needs_background": "light"
     },
     "output_type": "display_data"
    }
   ],
   "source": [
    "y=df['RainTomorrow']\n",
    "x=df.drop('RainTomorrow',axis=1)\n",
    "\n",
    "num_cols=x.select_dtypes(np.number)\n",
    "\n",
    "for i in num_cols.columns:\n",
    "    sns.boxplot(df[i])\n",
    "    plt.show()"
   ]
  },
  {
   "cell_type": "markdown",
   "metadata": {},
   "source": [
    "<table align=\"left\">\n",
    "    <tr>\n",
    "        <td width=\"6%\">\n",
    "            <img src=\"question_icon.png\">\n",
    "        </td>\n",
    "        <td>\n",
    "            <div align=\"left\", style=\"font-size:120%\">\n",
    "                <font color=\"#21618C\">\n",
    "                    <b>4. Is scaling required for the KNN algorithm? If yes, scale the data such that the range of each variable will be between 0 and 1\n",
    "                    </b>\n",
    "                </font>\n",
    "            </div>\n",
    "        </td>\n",
    "    </tr>\n",
    "</table>"
   ]
  },
  {
   "cell_type": "code",
   "execution_count": 41,
   "metadata": {},
   "outputs": [],
   "source": [
    "# yes scaling is required for knn algorithm\n",
    "\n",
    "from sklearn.model_selection import train_test_split\n",
    "from sklearn.preprocessing import MinMaxScaler\n",
    "\n",
    "y=df['RainTomorrow']\n",
    "x=df.drop('RainTomorrow',axis=1)\n",
    "x_train,x_test,y_train,y_test=train_test_split(x,y,train_size=0.7,random_state=1)\n",
    "\n",
    "mm=MinMaxScaler()\n",
    "x_trains=mm.fit_transform(x_train)\n",
    "x_tests=mm.fit_transform(x_test)\n",
    "xs=mm.fit_transform(x)\n",
    "\n",
    "x_trains=pd.DataFrame(x_trains,columns=x.columns)\n",
    "x_tests=pd.DataFrame(x_tests,columns=x.columns)\n",
    "xs=pd.DataFrame(xs,columns=x.columns)"
   ]
  },
  {
   "cell_type": "markdown",
   "metadata": {},
   "source": [
    "<table align=\"left\">\n",
    "    <tr>\n",
    "        <td width=\"6%\">\n",
    "            <img src=\"question_icon.png\">\n",
    "        </td>\n",
    "        <td>\n",
    "            <div align=\"left\", style=\"font-size:120%\">\n",
    "                <font color=\"#21618C\">\n",
    "                    <b>5. Build a 7-NN model on 70% of the data using the 'Chebyshev' distance and find its accuracy \n",
    "                    </b>\n",
    "                </font>\n",
    "            </div>\n",
    "        </td>\n",
    "    </tr>\n",
    "</table>"
   ]
  },
  {
   "cell_type": "code",
   "execution_count": 42,
   "metadata": {},
   "outputs": [
    {
     "data": {
      "text/plain": [
       "1.0"
      ]
     },
     "execution_count": 42,
     "metadata": {},
     "output_type": "execute_result"
    }
   ],
   "source": [
    "from sklearn.neighbors import KNeighborsClassifier\n",
    "from sklearn.metrics import accuracy_score\n",
    "y=df['RainTomorrow']\n",
    "x=df.drop('RainTomorrow',axis=1)\n",
    "\n",
    "knn=KNeighborsClassifier(n_neighbors=7,metric='chebyshev')\n",
    "knn.fit(x_trains,y_train)\n",
    "\n",
    "y_test_pred=knn.predict(x_tests)\n",
    "y_test_prob=knn.predict_proba(x_tests)[:,0]\n",
    "\n",
    "accuracy_score(y_test,y_test_pred)"
   ]
  },
  {
   "cell_type": "markdown",
   "metadata": {},
   "source": [
    "<table align=\"left\">\n",
    "    <tr>\n",
    "        <td width=\"6%\">\n",
    "            <img src=\"question_icon.png\">\n",
    "        </td>\n",
    "        <td>\n",
    "            <div align=\"left\", style=\"font-size:120%\">\n",
    "                <font color=\"#21618C\">\n",
    "                    <b>6. Find the best value of 'K' for the KNN model from the given list of values (use 5-fold cross validation)\n",
    "                    </b>\n",
    "                </font>\n",
    "            </div>\n",
    "        </td>\n",
    "    </tr>\n",
    "</table>"
   ]
  },
  {
   "cell_type": "markdown",
   "metadata": {},
   "source": [
    "**Use the given list:**\n",
    "\n",
    "K = [3, 5, 7, 9, 11, 13]"
   ]
  },
  {
   "cell_type": "code",
   "execution_count": 43,
   "metadata": {},
   "outputs": [
    {
     "data": {
      "text/plain": [
       "GridSearchCV(cv=5, estimator=KNeighborsClassifier(), n_jobs=-1,\n",
       "             param_grid={'n_neighbors': [3, 5, 7, 9, 11, 13]},\n",
       "             scoring='roc_auc')"
      ]
     },
     "execution_count": 43,
     "metadata": {},
     "output_type": "execute_result"
    }
   ],
   "source": [
    "from sklearn.model_selection import GridSearchCV,RandomizedSearchCV\n",
    "\n",
    "knn=KNeighborsClassifier()\n",
    "param={'n_neighbors':[3,5,7,9,11,13]}\n",
    "\n",
    "gsearch=GridSearchCV(knn,param_grid=param,cv=5,scoring='roc_auc',n_jobs=-1)\n",
    "gsearch.fit(xs,y)"
   ]
  },
  {
   "cell_type": "code",
   "execution_count": 44,
   "metadata": {
    "scrolled": true
   },
   "outputs": [
    {
     "data": {
      "text/plain": [
       "{'n_neighbors': 3}"
      ]
     },
     "execution_count": 44,
     "metadata": {},
     "output_type": "execute_result"
    }
   ],
   "source": [
    "gsearch.best_params_"
   ]
  },
  {
   "cell_type": "code",
   "execution_count": 45,
   "metadata": {},
   "outputs": [],
   "source": [
    "# the best value of k from the given values is 3"
   ]
  },
  {
   "cell_type": "markdown",
   "metadata": {},
   "source": [
    "<table align=\"left\">\n",
    "    <tr>\n",
    "        <td width=\"6%\">\n",
    "            <img src=\"question_icon.png\">\n",
    "        </td>\n",
    "        <td>\n",
    "            <div align=\"left\", style=\"font-size:120%\">\n",
    "                <font color=\"#21618C\">\n",
    "                    <b>7. Build a naive bayes model on 70% of the original data and plot the ROC curve along with the AUC score\n",
    "                    </b>\n",
    "                </font>\n",
    "            </div>\n",
    "        </td>\n",
    "    </tr>\n",
    "</table>"
   ]
  },
  {
   "cell_type": "code",
   "execution_count": 47,
   "metadata": {},
   "outputs": [
    {
     "data": {
      "image/png": "[encoded data removed]",
      "text/plain": [
       "<Figure size 432x288 with 1 Axes>"
      ]
     },
     "metadata": {
      "needs_background": "light"
     },
     "output_type": "display_data"
    }
   ],
   "source": [
    "from sklearn.naive_bayes import GaussianNB\n",
    "from sklearn.metrics import roc_curve,roc_auc_score,confusion_matrix,classification_report,accuracy_score\n",
    "\n",
    "gnb = GaussianNB()\n",
    "gnb.fit(x_trains,y_train)\n",
    "\n",
    "y_test_pred = gnb.predict(x_tests)\n",
    "y_test_prob = gnb.predict_proba(x_tests)\n",
    "\n",
    "\n",
    "fpr,tpr,thresholds = roc_curve(y_test,y_test_prob)\n",
    "plt.plot(fpr,tpr,'r')\n",
    "plt.plot(tpr,tpr,'g')\n",
    "plt.show()"
   ]
  },
  {
   "cell_type": "markdown",
   "metadata": {},
   "source": [
    "<table align=\"left\">\n",
    "    <tr>\n",
    "        <td width=\"6%\">\n",
    "            <img src=\"question_icon.png\">\n",
    "        </td>\n",
    "        <td>\n",
    "            <div align=\"left\", style=\"font-size:120%\">\n",
    "                <font color=\"#21618C\">\n",
    "                    <b>8. Which distance metric among 'manhattan', 'euclidean' and 'chebyshev' is suitable for the given dataset? (consider K = 19)\n",
    "                    </b>\n",
    "                </font>\n",
    "            </div>\n",
    "        </td>\n",
    "    </tr>\n",
    "</table>"
   ]
  },
  {
   "cell_type": "code",
   "execution_count": 50,
   "metadata": {},
   "outputs": [
    {
     "data": {
      "text/plain": [
       "GridSearchCV(cv=3, estimator=KNeighborsClassifier(), n_jobs=-1,\n",
       "             param_grid={'metric': ['manhattan', 'euclidean', 'chebyshev'],\n",
       "                         'n_neighbors': [19]},\n",
       "             scoring='roc_auc')"
      ]
     },
     "execution_count": 50,
     "metadata": {},
     "output_type": "execute_result"
    }
   ],
   "source": [
    "from sklearn.neighbors import KNeighborsClassifier\n",
    "knn=KNeighborsClassifier()\n",
    "params={'n_neighbors':[19],\n",
    "       'metric':['manhattan','euclidean','chebyshev']}\n",
    "gsearch=GridSearchCV(knn,param_grid=params,cv=3,scoring='roc_auc',n_jobs=-1)\n",
    "gsearch.fit(xs,y)"
   ]
  },
  {
   "cell_type": "markdown",
   "metadata": {},
   "source": [
    "<table align=\"left\">\n",
    "    <tr>\n",
    "        <td width=\"6%\">\n",
    "            <img src=\"question_icon.png\">\n",
    "        </td>\n",
    "        <td>\n",
    "            <div align=\"left\", style=\"font-size:120%\">\n",
    "                <font color=\"#21618C\">\n",
    "                    <b>9. Find the euclidean distance between the first observation of the dataframe 'X_test_scaled' and its five neighboring points in the train set (use for loop)</b>\n",
    "                </font>\n",
    "            </div>\n",
    "        </td>\n",
    "    </tr>\n",
    "</table>"
   ]
  },
  {
   "cell_type": "code",
   "execution_count": 11,
   "metadata": {},
   "outputs": [],
   "source": []
  },
  {
   "cell_type": "markdown",
   "metadata": {},
   "source": [
    "<table align=\"left\">\n",
    "    <tr>\n",
    "        <td width=\"6%\">\n",
    "            <img src=\"question_icon.png\">\n",
    "        </td>\n",
    "        <td>\n",
    "            <div align=\"left\", style=\"font-size:120%\">\n",
    "                <font color=\"#21618C\">\n",
    "                    <b>10. Use the parameters obtained in Q8 to build the KNN model, and find the number of false predictions using the test set\n",
    "                    </b>\n",
    "                </font>\n",
    "            </div>\n",
    "        </td>\n",
    "    </tr>\n",
    "</table>"
   ]
  },
  {
   "cell_type": "code",
   "execution_count": 52,
   "metadata": {},
   "outputs": [
    {
     "ename": "IndexError",
     "evalue": "index 1 is out of bounds for axis 1 with size 1",
     "output_type": "error",
     "traceback": [
      "\u001b[1;31m---------------------------------------------------------------------------\u001b[0m",
      "\u001b[1;31mIndexError\u001b[0m                                Traceback (most recent call last)",
      "\u001b[1;32m<ipython-input-52-50a6d4c33d02>\u001b[0m in \u001b[0;36m<module>\u001b[1;34m\u001b[0m\n\u001b[0;32m      3\u001b[0m \u001b[1;33m\u001b[0m\u001b[0m\n\u001b[0;32m      4\u001b[0m \u001b[0my_test_pred\u001b[0m \u001b[1;33m=\u001b[0m \u001b[0mknn\u001b[0m\u001b[1;33m.\u001b[0m\u001b[0mpredict\u001b[0m\u001b[1;33m(\u001b[0m\u001b[0mx_tests\u001b[0m\u001b[1;33m)\u001b[0m\u001b[1;33m\u001b[0m\u001b[1;33m\u001b[0m\u001b[0m\n\u001b[1;32m----> 5\u001b[1;33m \u001b[0my_test_prob\u001b[0m \u001b[1;33m=\u001b[0m \u001b[0mknn\u001b[0m\u001b[1;33m.\u001b[0m\u001b[0mpredict_proba\u001b[0m\u001b[1;33m(\u001b[0m\u001b[0mx_tests\u001b[0m\u001b[1;33m)\u001b[0m\u001b[1;33m[\u001b[0m\u001b[1;33m:\u001b[0m\u001b[1;33m,\u001b[0m\u001b[1;36m1\u001b[0m\u001b[1;33m]\u001b[0m\u001b[1;33m\u001b[0m\u001b[1;33m\u001b[0m\u001b[0m\n\u001b[0m\u001b[0;32m      6\u001b[0m \u001b[1;33m\u001b[0m\u001b[0m\n\u001b[0;32m      7\u001b[0m \u001b[0mcm\u001b[0m \u001b[1;33m=\u001b[0m \u001b[0mconfusion_matrix\u001b[0m\u001b[1;33m(\u001b[0m\u001b[0my_test\u001b[0m\u001b[1;33m,\u001b[0m\u001b[0my_test_pred\u001b[0m\u001b[1;33m)\u001b[0m\u001b[1;33m\u001b[0m\u001b[1;33m\u001b[0m\u001b[0m\n",
      "\u001b[1;31mIndexError\u001b[0m: index 1 is out of bounds for axis 1 with size 1"
     ]
    }
   ],
   "source": [
    "knn = KNeighborsClassifier(n_neighbors=19,metric='manhattan')\n",
    "knn.fit(x_trains,y_train)\n",
    "\n",
    "y_test_pred = knn.predict(x_tests)\n",
    "y_test_prob = knn.predict_proba(x_tests)[:,1]\n",
    "\n",
    "cm = confusion_matrix(y_test,y_test_pred)\n",
    "FP = cm[0,1]\n",
    "FN = cm[1,0]\n",
    "print(\"number of false predictions using test set: \",FP+FN)"
   ]
  },
  {
   "cell_type": "code",
   "execution_count": null,
   "metadata": {},
   "outputs": [],
   "source": []
  }
 ],
 "metadata": {
  "kernelspec": {
   "display_name": "Python 3",
   "language": "python",
   "name": "python3"
  },
  "language_info": {
   "codemirror_mode": {
    "name": "ipython",
    "version": 3
   },
   "file_extension": ".py",
   "mimetype": "text/x-python",
   "name": "python",
   "nbconvert_exporter": "python",
   "pygments_lexer": "ipython3",
   "version": "3.7.4"
  }
 },
 "nbformat": 4,
 "nbformat_minor": 2
}

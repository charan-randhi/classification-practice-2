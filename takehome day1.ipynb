{
 "cells": [
  {
   "cell_type": "markdown",
   "metadata": {},
   "source": [
    "<table align=\"center\" width=100%>\n",
    "    <tr>\n",
    "        <td width=\"15%\">\n",
    "            <img src=\"homework.png\">\n",
    "        </td>\n",
    "        <td>\n",
    "            <div align=\"center\">\n",
    "                <font color=\"#21618C\" size=8px>\n",
    "                    <b> Take-Home <br>(Day 1)\n",
    "                    </b>\n",
    "                </font>\n",
    "            </div>\n",
    "        </td>\n",
    "    </tr>\n",
    "</table>"
   ]
  },
  {
   "cell_type": "markdown",
   "metadata": {},
   "source": [
    "#### Import the required libraries"
   ]
  },
  {
   "cell_type": "code",
   "execution_count": 2,
   "metadata": {},
   "outputs": [],
   "source": [
    "import numpy as np\n",
    "import pandas as pd\n",
    "import matplotlib.pyplot as plt\n",
    "import seaborn as sns\n",
    "import warnings \n",
    "warnings.filterwarnings('ignore')\n",
    "import statsmodels.api as sm"
   ]
  },
  {
   "cell_type": "markdown",
   "metadata": {},
   "source": [
    "#### Read the data\n",
    "\n",
    "Load the csv file and print the first five observations."
   ]
  },
  {
   "cell_type": "code",
   "execution_count": 3,
   "metadata": {},
   "outputs": [
    {
     "data": {
      "text/html": [
       "<div>\n",
       "<style scoped>\n",
       "    .dataframe tbody tr th:only-of-type {\n",
       "        vertical-align: middle;\n",
       "    }\n",
       "\n",
       "    .dataframe tbody tr th {\n",
       "        vertical-align: top;\n",
       "    }\n",
       "\n",
       "    .dataframe thead th {\n",
       "        text-align: right;\n",
       "    }\n",
       "</style>\n",
       "<table border=\"1\" class=\"dataframe\">\n",
       "  <thead>\n",
       "    <tr style=\"text-align: right;\">\n",
       "      <th></th>\n",
       "      <th>CreditScore</th>\n",
       "      <th>Geography</th>\n",
       "      <th>Gender</th>\n",
       "      <th>Age</th>\n",
       "      <th>NumOfYrsWithBank</th>\n",
       "      <th>Balance</th>\n",
       "      <th>NumOfProducts</th>\n",
       "      <th>HasCrCard</th>\n",
       "      <th>Closed_Acc</th>\n",
       "    </tr>\n",
       "  </thead>\n",
       "  <tbody>\n",
       "    <tr>\n",
       "      <td>0</td>\n",
       "      <td>619</td>\n",
       "      <td>France</td>\n",
       "      <td>Female</td>\n",
       "      <td>42</td>\n",
       "      <td>2</td>\n",
       "      <td>0.00</td>\n",
       "      <td>1</td>\n",
       "      <td>1</td>\n",
       "      <td>1</td>\n",
       "    </tr>\n",
       "    <tr>\n",
       "      <td>1</td>\n",
       "      <td>608</td>\n",
       "      <td>Spain</td>\n",
       "      <td>Female</td>\n",
       "      <td>41</td>\n",
       "      <td>1</td>\n",
       "      <td>83807.86</td>\n",
       "      <td>1</td>\n",
       "      <td>0</td>\n",
       "      <td>0</td>\n",
       "    </tr>\n",
       "    <tr>\n",
       "      <td>2</td>\n",
       "      <td>502</td>\n",
       "      <td>France</td>\n",
       "      <td>Female</td>\n",
       "      <td>42</td>\n",
       "      <td>8</td>\n",
       "      <td>159660.80</td>\n",
       "      <td>3</td>\n",
       "      <td>1</td>\n",
       "      <td>1</td>\n",
       "    </tr>\n",
       "    <tr>\n",
       "      <td>3</td>\n",
       "      <td>699</td>\n",
       "      <td>France</td>\n",
       "      <td>Female</td>\n",
       "      <td>39</td>\n",
       "      <td>1</td>\n",
       "      <td>0.00</td>\n",
       "      <td>2</td>\n",
       "      <td>0</td>\n",
       "      <td>0</td>\n",
       "    </tr>\n",
       "    <tr>\n",
       "      <td>4</td>\n",
       "      <td>850</td>\n",
       "      <td>Spain</td>\n",
       "      <td>Female</td>\n",
       "      <td>43</td>\n",
       "      <td>2</td>\n",
       "      <td>125510.82</td>\n",
       "      <td>1</td>\n",
       "      <td>1</td>\n",
       "      <td>0</td>\n",
       "    </tr>\n",
       "  </tbody>\n",
       "</table>\n",
       "</div>"
      ],
      "text/plain": [
       "   CreditScore Geography  Gender  Age  NumOfYrsWithBank    Balance  \\\n",
       "0          619    France  Female   42                 2       0.00   \n",
       "1          608     Spain  Female   41                 1   83807.86   \n",
       "2          502    France  Female   42                 8  159660.80   \n",
       "3          699    France  Female   39                 1       0.00   \n",
       "4          850     Spain  Female   43                 2  125510.82   \n",
       "\n",
       "   NumOfProducts  HasCrCard  Closed_Acc  \n",
       "0              1          1           1  \n",
       "1              1          0           0  \n",
       "2              3          1           1  \n",
       "3              2          0           0  \n",
       "4              1          1           0  "
      ]
     },
     "execution_count": 3,
     "metadata": {},
     "output_type": "execute_result"
    }
   ],
   "source": [
    "df=pd.read_csv('bank_churn.csv')\n",
    "df.head()"
   ]
  },
  {
   "cell_type": "markdown",
   "metadata": {},
   "source": [
    "Our objective is to predict whether the customer has closed the bank account or not."
   ]
  },
  {
   "cell_type": "markdown",
   "metadata": {},
   "source": [
    "**The data definition is as follows:** <br>\n",
    "\n",
    "**CreditScore**: Credit score of the customer \n",
    "\n",
    "**Geography**: Resident country of the customer\n",
    "\n",
    "**Gender**: Gender of the customer\n",
    "\n",
    "**Age**: Age of the customer\n",
    "\n",
    "**NumOfYrsWithBank**: Years for which the customer has been with the bank\n",
    "\n",
    "**Balance**: Bank balance of the customer in Euro\n",
    "\n",
    "**NumOfProducts**: Number of bank facilities for which customer has opted\n",
    "\n",
    "**HasCrCard**: Whether the customer has credit card or not (1 = Yes, 0 = No)\n",
    "\n",
    "**Closed_Acc**: Whether the customer has closed the bank account or not (1 = Yes, 0 = No) (target/dependent variable)"
   ]
  },
  {
   "cell_type": "markdown",
   "metadata": {},
   "source": [
    "### Let's begin with some hands-on practice exercises"
   ]
  },
  {
   "cell_type": "markdown",
   "metadata": {},
   "source": [
    "<table align=\"left\">\n",
    "    <tr>\n",
    "        <td width=\"6%\">\n",
    "            <img src=\"question_icon.png\">\n",
    "        </td>\n",
    "        <td>\n",
    "            <div align=\"left\", style=\"font-size:120%\">\n",
    "                <font color=\"#21618C\">\n",
    "                    <b>1. Is the target variable imbalanced? </b>\n",
    "                </font>\n",
    "            </div>\n",
    "        </td>\n",
    "    </tr>\n",
    "</table>"
   ]
  },
  {
   "cell_type": "code",
   "execution_count": 4,
   "metadata": {
    "scrolled": true
   },
   "outputs": [
    {
     "data": {
      "text/plain": [
       "0    7898\n",
       "1    2022\n",
       "Name: Closed_Acc, dtype: int64"
      ]
     },
     "execution_count": 4,
     "metadata": {},
     "output_type": "execute_result"
    }
   ],
   "source": [
    "df['Closed_Acc'].value_counts()"
   ]
  },
  {
   "cell_type": "code",
   "execution_count": 5,
   "metadata": {},
   "outputs": [
    {
     "data": {
      "text/plain": [
       "0    79.616935\n",
       "1    20.383065\n",
       "Name: Closed_Acc, dtype: float64"
      ]
     },
     "execution_count": 5,
     "metadata": {},
     "output_type": "execute_result"
    }
   ],
   "source": [
    "df['Closed_Acc'].value_counts(normalize=True)*100"
   ]
  },
  {
   "cell_type": "markdown",
   "metadata": {},
   "source": [
    "yes the target variable is imbalanced instances of class-0 are more than instances of class-1"
   ]
  },
  {
   "cell_type": "markdown",
   "metadata": {},
   "source": [
    "<table align=\"left\">\n",
    "    <tr>\n",
    "        <td width=\"6%\">\n",
    "            <img src=\"question_icon.png\">\n",
    "        </td>\n",
    "        <td>\n",
    "            <div align=\"left\", style=\"font-size:120%\">\n",
    "                <font color=\"#21618C\">\n",
    "                    <b>2. Build a full logistic model and calculate the odds for each variable (consider the probability  threshold as 0.25)</b>\n",
    "                </font>\n",
    "            </div>\n",
    "        </td>\n",
    "    </tr>\n",
    "</table>"
   ]
  },
  {
   "cell_type": "code",
   "execution_count": 6,
   "metadata": {},
   "outputs": [
    {
     "name": "stdout",
     "output_type": "stream",
     "text": [
      "Optimization terminated successfully.\n",
      "         Current function value: 0.442342\n",
      "         Iterations 6\n"
     ]
    },
    {
     "data": {
      "text/html": [
       "<div>\n",
       "<style scoped>\n",
       "    .dataframe tbody tr th:only-of-type {\n",
       "        vertical-align: middle;\n",
       "    }\n",
       "\n",
       "    .dataframe tbody tr th {\n",
       "        vertical-align: top;\n",
       "    }\n",
       "\n",
       "    .dataframe thead th {\n",
       "        text-align: right;\n",
       "    }\n",
       "</style>\n",
       "<table border=\"1\" class=\"dataframe\">\n",
       "  <thead>\n",
       "    <tr style=\"text-align: right;\">\n",
       "      <th></th>\n",
       "      <th>coefs</th>\n",
       "      <th>Exp_coefs</th>\n",
       "    </tr>\n",
       "  </thead>\n",
       "  <tbody>\n",
       "    <tr>\n",
       "      <td>const</td>\n",
       "      <td>-3.815257</td>\n",
       "      <td>0.022032</td>\n",
       "    </tr>\n",
       "    <tr>\n",
       "      <td>CreditScore</td>\n",
       "      <td>-0.000518</td>\n",
       "      <td>0.999482</td>\n",
       "    </tr>\n",
       "    <tr>\n",
       "      <td>Age</td>\n",
       "      <td>0.070491</td>\n",
       "      <td>1.073035</td>\n",
       "    </tr>\n",
       "    <tr>\n",
       "      <td>NumOfYrsWithBank</td>\n",
       "      <td>-0.008052</td>\n",
       "      <td>0.991980</td>\n",
       "    </tr>\n",
       "    <tr>\n",
       "      <td>Balance</td>\n",
       "      <td>0.000002</td>\n",
       "      <td>1.000002</td>\n",
       "    </tr>\n",
       "    <tr>\n",
       "      <td>NumOfProducts</td>\n",
       "      <td>-0.122242</td>\n",
       "      <td>0.884934</td>\n",
       "    </tr>\n",
       "    <tr>\n",
       "      <td>HasCrCard</td>\n",
       "      <td>-0.029087</td>\n",
       "      <td>0.971332</td>\n",
       "    </tr>\n",
       "    <tr>\n",
       "      <td>Geography_Germany</td>\n",
       "      <td>0.784232</td>\n",
       "      <td>2.190723</td>\n",
       "    </tr>\n",
       "    <tr>\n",
       "      <td>Geography_Spain</td>\n",
       "      <td>0.011815</td>\n",
       "      <td>1.011885</td>\n",
       "    </tr>\n",
       "    <tr>\n",
       "      <td>Gender_Male</td>\n",
       "      <td>-0.540329</td>\n",
       "      <td>0.582556</td>\n",
       "    </tr>\n",
       "  </tbody>\n",
       "</table>\n",
       "</div>"
      ],
      "text/plain": [
       "                      coefs  Exp_coefs\n",
       "const             -3.815257   0.022032\n",
       "CreditScore       -0.000518   0.999482\n",
       "Age                0.070491   1.073035\n",
       "NumOfYrsWithBank  -0.008052   0.991980\n",
       "Balance            0.000002   1.000002\n",
       "NumOfProducts     -0.122242   0.884934\n",
       "HasCrCard         -0.029087   0.971332\n",
       "Geography_Germany  0.784232   2.190723\n",
       "Geography_Spain    0.011815   1.011885\n",
       "Gender_Male       -0.540329   0.582556"
      ]
     },
     "execution_count": 6,
     "metadata": {},
     "output_type": "execute_result"
    }
   ],
   "source": [
    "df2=pd.get_dummies(df,drop_first=True)\n",
    "y=df2['Closed_Acc']\n",
    "x=df2.drop('Closed_Acc',axis=1)\n",
    "\n",
    "xc=sm.add_constant(x)\n",
    "model=sm.Logit(y,xc).fit()\n",
    "\n",
    "coef=pd.DataFrame(model.params,columns=['coefs'])\n",
    "coef['Exp_coefs']=np.exp(model.params)\n",
    "coef"
   ]
  },
  {
   "cell_type": "code",
   "execution_count": 10,
   "metadata": {},
   "outputs": [
    {
     "name": "stdout",
     "output_type": "stream",
     "text": [
      "odds ratio for each variable is:\n"
     ]
    },
    {
     "data": {
      "text/plain": [
       "const                0.022032\n",
       "CreditScore          0.999482\n",
       "Age                  1.073035\n",
       "NumOfYrsWithBank     0.991980\n",
       "Balance              1.000002\n",
       "NumOfProducts        0.884934\n",
       "HasCrCard            0.971332\n",
       "Geography_Germany    2.190723\n",
       "Geography_Spain      1.011885\n",
       "Gender_Male          0.582556\n",
       "Name: Exp_coefs, dtype: float64"
      ]
     },
     "execution_count": 10,
     "metadata": {},
     "output_type": "execute_result"
    }
   ],
   "source": [
    "print(\"odds ratio for each variable is:\")\n",
    "coef['Exp_coefs']"
   ]
  },
  {
   "cell_type": "markdown",
   "metadata": {},
   "source": [
    "<table align=\"left\">\n",
    "    <tr>\n",
    "        <td width=\"6%\">\n",
    "            <img src=\"question_icon.png\">\n",
    "        </td>\n",
    "        <td>\n",
    "            <div align=\"left\", style=\"font-size:120%\">\n",
    "                <font color=\"#21618C\">\n",
    "                    <b>3. Calculate the Specificity and Sensitivity from the confusion matrix of the full model (consider the probability threshold as 0.25)\n",
    "                    </b>\n",
    "                </font>\n",
    "            </div>\n",
    "        </td>\n",
    "    </tr>\n",
    "</table>"
   ]
  },
  {
   "cell_type": "code",
   "execution_count": 11,
   "metadata": {},
   "outputs": [
    {
     "name": "stdout",
     "output_type": "stream",
     "text": [
      "Optimization terminated successfully.\n",
      "         Current function value: 0.442342\n",
      "         Iterations 6\n",
      "confusion matrix is : \n",
      " [[6367 1531]\n",
      " [ 849 1173]]\n"
     ]
    }
   ],
   "source": [
    "from sklearn.metrics import confusion_matrix,roc_auc_score,roc_curve,classification_report,accuracy_score\n",
    "\n",
    "y=df2['Closed_Acc']\n",
    "x=df2.drop('Closed_Acc',axis=1)\n",
    "\n",
    "xc=sm.add_constant(x)\n",
    "model=sm.Logit(y,xc).fit()\n",
    "y_prob=model.predict(xc)\n",
    "y_pred=y_prob.apply(lambda x:0 if x<0.25 else 1)\n",
    "cm=confusion_matrix(y,y_pred)\n",
    "print(\"confusion matrix is : \\n\",cm)"
   ]
  },
  {
   "cell_type": "code",
   "execution_count": 12,
   "metadata": {},
   "outputs": [
    {
     "name": "stdout",
     "output_type": "stream",
     "text": [
      "The sensitivity of the model is :  0.5799109351806037\n",
      "The specificity of the model is :  0.8061534565712839\n"
     ]
    }
   ],
   "source": [
    "TP=1172\n",
    "TN=6367\n",
    "FN=849\n",
    "FP=1531\n",
    "\n",
    "sensitivity=TP/(FN+TP)\n",
    "specificity=TN/(TN+FP)\n",
    "\n",
    "print(\"The sensitivity of the model is : \", sensitivity)\n",
    "print(\"The specificity of the model is : \",specificity)"
   ]
  },
  {
   "cell_type": "markdown",
   "metadata": {},
   "source": [
    "<table align=\"left\">\n",
    "    <tr>\n",
    "        <td width=\"6%\">\n",
    "            <img src=\"question_icon.png\">\n",
    "        </td>\n",
    "        <td>\n",
    "            <div align=\"left\", style=\"font-size:120%\">\n",
    "                <font color=\"#21618C\">\n",
    "                    <b>4. Build a logistic model on the 6 features obtained by RFE and plot the ROC curve \n",
    "                    </b>\n",
    "                </font>\n",
    "            </div>\n",
    "        </td>\n",
    "    </tr>\n",
    "</table>"
   ]
  },
  {
   "cell_type": "code",
   "execution_count": 13,
   "metadata": {},
   "outputs": [
    {
     "name": "stdout",
     "output_type": "stream",
     "text": [
      "Fitting estimator with 9 features.\n",
      "Fitting estimator with 8 features.\n",
      "Fitting estimator with 7 features.\n"
     ]
    }
   ],
   "source": [
    "from sklearn.feature_selection import RFE\n",
    "from sklearn.model_selection import train_test_split\n",
    "from sklearn.linear_model import LogisticRegression\n",
    "\n",
    "y=df2['Closed_Acc']\n",
    "x=df2.drop('Closed_Acc',axis=1)\n",
    "\n",
    "x_train,x_test,y_train,y_test= train_test_split(x,y,test_size=0.3,random_state=4)\n",
    "lor=LogisticRegression()\n",
    "rfe=RFE(estimator=lor,n_features_to_select=6,verbose=3)\n",
    "rfe.fit(x_train,y_train)\n",
    "\n",
    "y_pred=rfe.predict(x_test)\n",
    "y_prob=rfe.predict_proba(x_test)[:,1]"
   ]
  },
  {
   "cell_type": "code",
   "execution_count": 15,
   "metadata": {},
   "outputs": [
    {
     "data": {
      "image/png": "[encoded data removed]",
      "text/plain": [
       "<Figure size 720x360 with 1 Axes>"
      ]
     },
     "metadata": {
      "needs_background": "light"
     },
     "output_type": "display_data"
    }
   ],
   "source": [
    "fpr,tpr,thresholds=roc_curve(y_test,y_prob)\n",
    "plt.figure(figsize=(10,5))\n",
    "plt.plot(fpr,tpr,'r')\n",
    "plt.plot(fpr,fpr,'g')\n",
    "plt.show()"
   ]
  },
  {
   "cell_type": "markdown",
   "metadata": {},
   "source": [
    "<table align=\"left\">\n",
    "    <tr>\n",
    "        <td width=\"6%\">\n",
    "            <img src=\"question_icon.png\">\n",
    "        </td>\n",
    "        <td>\n",
    "            <div align=\"left\", style=\"font-size:120%\">\n",
    "                <font color=\"#21618C\">\n",
    "                    <b>5. Obtain the optimal value of cut-off probability for the full model using the Youden's index \n",
    "                    </b>\n",
    "                </font>\n",
    "            </div>\n",
    "        </td>\n",
    "    </tr>\n",
    "</table>"
   ]
  },
  {
   "cell_type": "code",
   "execution_count": 17,
   "metadata": {},
   "outputs": [
    {
     "name": "stdout",
     "output_type": "stream",
     "text": [
      "Optimum threshold/cut-off value for sull model:  0.21\n"
     ]
    }
   ],
   "source": [
    "y=df2['Closed_Acc']\n",
    "x=df2.drop('Closed_Acc',axis=1)\n",
    "x_train,x_test,y_train,y_test=train_test_split(x,y,train_size=0.7,random_state=4)\n",
    "lor=LogisticRegression()\n",
    "lor.fit(x_train,y_train)\n",
    "\n",
    "y_pred=lor.predict(x_test)\n",
    "y_prob=lor.predict_proba(x_test)[:,1]\n",
    "\n",
    "fpr,tpr,thresholds=roc_curve(y_test,y_prob)\n",
    "j_scores = tpr-fpr\n",
    "j_ordered = sorted(zip(j_scores,thresholds))\n",
    "\n",
    "print(\"Optimum threshold/cut-off value for sull model: \",round(j_ordered[-1][1],2))"
   ]
  },
  {
   "cell_type": "markdown",
   "metadata": {},
   "source": [
    "<table align=\"left\">\n",
    "    <tr>\n",
    "        <td width=\"6%\">\n",
    "            <img src=\"question_icon.png\">\n",
    "        </td>\n",
    "        <td>\n",
    "            <div align=\"left\", style=\"font-size:120%\">\n",
    "                <font color=\"#21618C\">\n",
    "                    <b>6. Consider the cut-off probability obtained from Youden's index for the full model and calculate the following measures:<br>\n",
    "                    a. f-1 score <br>\n",
    "                    b. Accuracy<br>\n",
    "                    c. Kappa Score\n",
    "                    </b>\n",
    "                </font>\n",
    "            </div>\n",
    "        </td>\n",
    "    </tr>\n",
    "</table>"
   ]
  },
  {
   "cell_type": "code",
   "execution_count": 18,
   "metadata": {},
   "outputs": [
    {
     "name": "stdout",
     "output_type": "stream",
     "text": [
      "Optimization terminated successfully.\n",
      "         Current function value: 0.442342\n",
      "         Iterations 6\n",
      "              precision    recall  f1-score   support\n",
      "\n",
      "           0       0.89      0.73      0.80      7898\n",
      "           1       0.39      0.66      0.49      2022\n",
      "\n",
      "    accuracy                           0.72      9920\n",
      "   macro avg       0.64      0.70      0.65      9920\n",
      "weighted avg       0.79      0.72      0.74      9920\n",
      "\n",
      "Accuracy:  0.7173387096774193\n",
      "kappa score:  0.31130896378239736\n"
     ]
    }
   ],
   "source": [
    "from sklearn.metrics import cohen_kappa_score\n",
    "y=df2['Closed_Acc']\n",
    "x=df2.drop('Closed_Acc',axis=1)\n",
    "import statsmodels.api as sm\n",
    "xc=sm.add_constant(xc)\n",
    "model=sm.Logit(y,xc).fit()\n",
    "y_prob=model.predict(xc)\n",
    "y_pred=y_prob.apply(lambda x:0 if x<0.21 else 1)\n",
    "\n",
    "print(classification_report(y,y_pred))\n",
    "print(\"Accuracy: \",accuracy_score(y,y_pred))\n",
    "print(\"kappa score: \",cohen_kappa_score(y,y_pred))"
   ]
  },
  {
   "cell_type": "code",
   "execution_count": 19,
   "metadata": {},
   "outputs": [
    {
     "name": "stdout",
     "output_type": "stream",
     "text": [
      "F1_score is:  0.49\n"
     ]
    }
   ],
   "source": [
    "print(\"F1_score is: \",0.49)"
   ]
  },
  {
   "cell_type": "markdown",
   "metadata": {},
   "source": [
    "<table align=\"left\">\n",
    "    <tr>\n",
    "        <td width=\"6%\">\n",
    "            <img src=\"question_icon.png\">\n",
    "        </td>\n",
    "        <td>\n",
    "            <div align=\"left\", style=\"font-size:120%\">\n",
    "                <font color=\"#21618C\">\n",
    "                    <b>7. Identify the variables involved in multicollinearity \n",
    "                    </b>\n",
    "                </font>\n",
    "            </div>\n",
    "        </td>\n",
    "    </tr>\n",
    "</table>"
   ]
  },
  {
   "cell_type": "code",
   "execution_count": 20,
   "metadata": {},
   "outputs": [
    {
     "name": "stdout",
     "output_type": "stream",
     "text": [
      "Optimization terminated successfully.\n",
      "         Current function value: 0.442342\n",
      "         Iterations 6\n"
     ]
    },
    {
     "data": {
      "text/html": [
       "<table class=\"simpletable\">\n",
       "<caption>Logit Regression Results</caption>\n",
       "<tr>\n",
       "  <th>Dep. Variable:</th>      <td>Closed_Acc</td>    <th>  No. Observations:  </th>   <td>  9920</td>  \n",
       "</tr>\n",
       "<tr>\n",
       "  <th>Model:</th>                 <td>Logit</td>      <th>  Df Residuals:      </th>   <td>  9910</td>  \n",
       "</tr>\n",
       "<tr>\n",
       "  <th>Method:</th>                 <td>MLE</td>       <th>  Df Model:          </th>   <td>     9</td>  \n",
       "</tr>\n",
       "<tr>\n",
       "  <th>Date:</th>            <td>Fri, 12 Feb 2021</td> <th>  Pseudo R-squ.:     </th>   <td>0.1252</td>  \n",
       "</tr>\n",
       "<tr>\n",
       "  <th>Time:</th>                <td>11:20:49</td>     <th>  Log-Likelihood:    </th>  <td> -4388.0</td> \n",
       "</tr>\n",
       "<tr>\n",
       "  <th>converged:</th>             <td>True</td>       <th>  LL-Null:           </th>  <td> -5016.2</td> \n",
       "</tr>\n",
       "<tr>\n",
       "  <th>Covariance Type:</th>     <td>nonrobust</td>    <th>  LLR p-value:       </th> <td>8.166e-265</td>\n",
       "</tr>\n",
       "</table>\n",
       "<table class=\"simpletable\">\n",
       "<tr>\n",
       "          <td></td>             <th>coef</th>     <th>std err</th>      <th>z</th>      <th>P>|z|</th>  <th>[0.025</th>    <th>0.975]</th>  \n",
       "</tr>\n",
       "<tr>\n",
       "  <th>const</th>             <td>   -3.8153</td> <td>    0.240</td> <td>  -15.873</td> <td> 0.000</td> <td>   -4.286</td> <td>   -3.344</td>\n",
       "</tr>\n",
       "<tr>\n",
       "  <th>CreditScore</th>       <td>   -0.0005</td> <td>    0.000</td> <td>   -1.857</td> <td> 0.063</td> <td>   -0.001</td> <td> 2.88e-05</td>\n",
       "</tr>\n",
       "<tr>\n",
       "  <th>Age</th>               <td>    0.0705</td> <td>    0.003</td> <td>   27.551</td> <td> 0.000</td> <td>    0.065</td> <td>    0.076</td>\n",
       "</tr>\n",
       "<tr>\n",
       "  <th>NumOfYrsWithBank</th>  <td>   -0.0081</td> <td>    0.009</td> <td>   -0.872</td> <td> 0.383</td> <td>   -0.026</td> <td>    0.010</td>\n",
       "</tr>\n",
       "<tr>\n",
       "  <th>Balance</th>           <td> 2.418e-06</td> <td> 5.12e-07</td> <td>    4.724</td> <td> 0.000</td> <td> 1.41e-06</td> <td> 3.42e-06</td>\n",
       "</tr>\n",
       "<tr>\n",
       "  <th>NumOfProducts</th>     <td>   -0.1222</td> <td>    0.047</td> <td>   -2.614</td> <td> 0.009</td> <td>   -0.214</td> <td>   -0.031</td>\n",
       "</tr>\n",
       "<tr>\n",
       "  <th>HasCrCard</th>         <td>   -0.0291</td> <td>    0.059</td> <td>   -0.496</td> <td> 0.620</td> <td>   -0.144</td> <td>    0.086</td>\n",
       "</tr>\n",
       "<tr>\n",
       "  <th>Geography_Germany</th> <td>    0.7842</td> <td>    0.067</td> <td>   11.751</td> <td> 0.000</td> <td>    0.653</td> <td>    0.915</td>\n",
       "</tr>\n",
       "<tr>\n",
       "  <th>Geography_Spain</th>   <td>    0.0118</td> <td>    0.070</td> <td>    0.168</td> <td> 0.867</td> <td>   -0.126</td> <td>    0.150</td>\n",
       "</tr>\n",
       "<tr>\n",
       "  <th>Gender_Male</th>       <td>   -0.5403</td> <td>    0.054</td> <td>  -10.035</td> <td> 0.000</td> <td>   -0.646</td> <td>   -0.435</td>\n",
       "</tr>\n",
       "</table>"
      ],
      "text/plain": [
       "<class 'statsmodels.iolib.summary.Summary'>\n",
       "\"\"\"\n",
       "                           Logit Regression Results                           \n",
       "==============================================================================\n",
       "Dep. Variable:             Closed_Acc   No. Observations:                 9920\n",
       "Model:                          Logit   Df Residuals:                     9910\n",
       "Method:                           MLE   Df Model:                            9\n",
       "Date:                Fri, 12 Feb 2021   Pseudo R-squ.:                  0.1252\n",
       "Time:                        11:20:49   Log-Likelihood:                -4388.0\n",
       "converged:                       True   LL-Null:                       -5016.2\n",
       "Covariance Type:            nonrobust   LLR p-value:                8.166e-265\n",
       "=====================================================================================\n",
       "                        coef    std err          z      P>|z|      [0.025      0.975]\n",
       "-------------------------------------------------------------------------------------\n",
       "const                -3.8153      0.240    -15.873      0.000      -4.286      -3.344\n",
       "CreditScore          -0.0005      0.000     -1.857      0.063      -0.001    2.88e-05\n",
       "Age                   0.0705      0.003     27.551      0.000       0.065       0.076\n",
       "NumOfYrsWithBank     -0.0081      0.009     -0.872      0.383      -0.026       0.010\n",
       "Balance            2.418e-06   5.12e-07      4.724      0.000    1.41e-06    3.42e-06\n",
       "NumOfProducts        -0.1222      0.047     -2.614      0.009      -0.214      -0.031\n",
       "HasCrCard            -0.0291      0.059     -0.496      0.620      -0.144       0.086\n",
       "Geography_Germany     0.7842      0.067     11.751      0.000       0.653       0.915\n",
       "Geography_Spain       0.0118      0.070      0.168      0.867      -0.126       0.150\n",
       "Gender_Male          -0.5403      0.054    -10.035      0.000      -0.646      -0.435\n",
       "=====================================================================================\n",
       "\"\"\""
      ]
     },
     "execution_count": 20,
     "metadata": {},
     "output_type": "execute_result"
    }
   ],
   "source": [
    "from statsmodels.stats.outliers_influence import variance_inflation_factor as VIF\n",
    "\n",
    "y=df2['Closed_Acc']\n",
    "x=df2.drop('Closed_Acc',axis=1)\n",
    "\n",
    "xc=sm.add_constant(x)\n",
    "model=sm.Logit(y,xc).fit()\n",
    "model.summary()"
   ]
  },
  {
   "cell_type": "code",
   "execution_count": 21,
   "metadata": {
    "scrolled": true
   },
   "outputs": [
    {
     "data": {
      "text/html": [
       "<div>\n",
       "<style scoped>\n",
       "    .dataframe tbody tr th:only-of-type {\n",
       "        vertical-align: middle;\n",
       "    }\n",
       "\n",
       "    .dataframe tbody tr th {\n",
       "        vertical-align: top;\n",
       "    }\n",
       "\n",
       "    .dataframe thead th {\n",
       "        text-align: right;\n",
       "    }\n",
       "</style>\n",
       "<table border=\"1\" class=\"dataframe\">\n",
       "  <thead>\n",
       "    <tr style=\"text-align: right;\">\n",
       "      <th></th>\n",
       "      <th>vif</th>\n",
       "    </tr>\n",
       "  </thead>\n",
       "  <tbody>\n",
       "    <tr>\n",
       "      <td>const</td>\n",
       "      <td>80.630073</td>\n",
       "    </tr>\n",
       "    <tr>\n",
       "      <td>CreditScore</td>\n",
       "      <td>1.000439</td>\n",
       "    </tr>\n",
       "    <tr>\n",
       "      <td>Age</td>\n",
       "      <td>1.004781</td>\n",
       "    </tr>\n",
       "    <tr>\n",
       "      <td>NumOfYrsWithBank</td>\n",
       "      <td>1.001064</td>\n",
       "    </tr>\n",
       "    <tr>\n",
       "      <td>Balance</td>\n",
       "      <td>1.336522</td>\n",
       "    </tr>\n",
       "    <tr>\n",
       "      <td>NumOfProducts</td>\n",
       "      <td>1.121580</td>\n",
       "    </tr>\n",
       "    <tr>\n",
       "      <td>HasCrCard</td>\n",
       "      <td>1.001403</td>\n",
       "    </tr>\n",
       "    <tr>\n",
       "      <td>Geography_Germany</td>\n",
       "      <td>1.339241</td>\n",
       "    </tr>\n",
       "    <tr>\n",
       "      <td>Geography_Spain</td>\n",
       "      <td>1.124809</td>\n",
       "    </tr>\n",
       "    <tr>\n",
       "      <td>Gender_Male</td>\n",
       "      <td>1.002595</td>\n",
       "    </tr>\n",
       "  </tbody>\n",
       "</table>\n",
       "</div>"
      ],
      "text/plain": [
       "                         vif\n",
       "const              80.630073\n",
       "CreditScore         1.000439\n",
       "Age                 1.004781\n",
       "NumOfYrsWithBank    1.001064\n",
       "Balance             1.336522\n",
       "NumOfProducts       1.121580\n",
       "HasCrCard           1.001403\n",
       "Geography_Germany   1.339241\n",
       "Geography_Spain     1.124809\n",
       "Gender_Male         1.002595"
      ]
     },
     "execution_count": 21,
     "metadata": {},
     "output_type": "execute_result"
    }
   ],
   "source": [
    "# now we will check for multicollinearity using VIF\n",
    "vif=[VIF(xc.values,i) for i in range(xc.shape[1])]\n",
    "pd.DataFrame(vif,index=xc.columns,columns=['vif'])"
   ]
  },
  {
   "cell_type": "markdown",
   "metadata": {},
   "source": [
    "Vif values of all varibales are less than 10(cut-off score). Hence no variables are involved in multi-collinearity."
   ]
  },
  {
   "cell_type": "markdown",
   "metadata": {},
   "source": [
    "<table align=\"left\">\n",
    "    <tr>\n",
    "        <td width=\"6%\">\n",
    "            <img src=\"question_icon.png\">\n",
    "        </td>\n",
    "        <td>\n",
    "            <div align=\"left\", style=\"font-size:120%\">\n",
    "                <font color=\"#21618C\">\n",
    "                    <b>8. Build a logistic regression model using the categorical variables and the variables obtained after calculating VIF. Also, plot the ROC curve and compute the AUC score (consider the cut-off probability as 0.6)\n",
    "                    </b>\n",
    "                </font>\n",
    "            </div>\n",
    "        </td>\n",
    "    </tr>\n",
    "</table>"
   ]
  },
  {
   "cell_type": "code",
   "execution_count": 24,
   "metadata": {},
   "outputs": [
    {
     "name": "stdout",
     "output_type": "stream",
     "text": [
      "Optimization terminated successfully.\n",
      "         Current function value: 0.442342\n",
      "         Iterations 6\n",
      "Accuracy :  0.7923387096774194\n"
     ]
    },
    {
     "data": {
      "image/png": "[encoded data removed]",
      "text/plain": [
       "<Figure size 864x576 with 1 Axes>"
      ]
     },
     "metadata": {
      "needs_background": "light"
     },
     "output_type": "display_data"
    }
   ],
   "source": [
    "y=df2['Closed_Acc']\n",
    "x=df2.drop(\"Closed_Acc\",axis=1)\n",
    "\n",
    "xc=sm.add_constant(x)\n",
    "model=sm.Logit(y,xc).fit()\n",
    "\n",
    "y_prob=model.predict(xc)\n",
    "y_pred=y_prob.apply(lambda x:0 if x<0.6 else 1)\n",
    "\n",
    "print(\"Accuracy : \",accuracy_score(y,y_pred))\n",
    "fpr,tpr,thresholds=roc_curve(y,y_pred)\n",
    "plt.figure(figsize=(12,8))\n",
    "plt.plot(fpr,tpr,'r')\n",
    "plt.plot(fpr,fpr,'cyan')\n",
    "plt.show()\n"
   ]
  },
  {
   "cell_type": "markdown",
   "metadata": {},
   "source": [
    "<table align=\"left\">\n",
    "    <tr>\n",
    "        <td width=\"6%\">\n",
    "            <img src=\"question_icon.png\">\n",
    "        </td>\n",
    "        <td>\n",
    "            <div align=\"left\", style=\"font-size:120%\">\n",
    "                <font color=\"#21618C\">\n",
    "                    <b>9. Consider the costs of false negatives and false positives as 2 and 0.5 respectively to obtain the optimal cut-off probability for which the total cost will be minimum\n",
    "                    </b>\n",
    "                </font>\n",
    "            </div>\n",
    "        </td>\n",
    "    </tr>\n",
    "</table>"
   ]
  },
  {
   "cell_type": "code",
   "execution_count": 1,
   "metadata": {},
   "outputs": [],
   "source": []
  },
  {
   "cell_type": "markdown",
   "metadata": {},
   "source": [
    "<table align=\"left\">\n",
    "    <tr>\n",
    "        <td width=\"6%\">\n",
    "            <img src=\"question_icon.png\">\n",
    "        </td>\n",
    "        <td>\n",
    "            <div align=\"left\", style=\"font-size:120%\">\n",
    "                <font color=\"#21618C\">\n",
    "                    <b>10. Build a full logistic model using the optimal cut-off probability obtained in Q9. Also, plot the confusion matrix and ROC curve along with the AUC score  \n",
    "                    </b>\n",
    "                </font>\n",
    "            </div>\n",
    "        </td>\n",
    "    </tr>\n",
    "</table>"
   ]
  },
  {
   "cell_type": "code",
   "execution_count": 1,
   "metadata": {},
   "outputs": [],
   "source": [
    "# type your code here"
   ]
  }
 ],
 "metadata": {
  "kernelspec": {
   "display_name": "Python 3",
   "language": "python",
   "name": "python3"
  },
  "language_info": {
   "codemirror_mode": {
    "name": "ipython",
    "version": 3
   },
   "file_extension": ".py",
   "mimetype": "text/x-python",
   "name": "python",
   "nbconvert_exporter": "python",
   "pygments_lexer": "ipython3",
   "version": "3.8.5"
  }
 },
 "nbformat": 4,
 "nbformat_minor": 2
}
